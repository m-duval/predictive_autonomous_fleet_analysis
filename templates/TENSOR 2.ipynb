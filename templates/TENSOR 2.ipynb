{
 "cells": [
  {
   "cell_type": "code",
   "execution_count": 55,
   "metadata": {},
   "outputs": [],
   "source": [
    "from __future__ import absolute_import, division, print_function, unicode_literals\n",
    "import tensorflow as tf\n",
    "\n",
    "import matplotlib as mpl\n",
    "import matplotlib.pyplot as plt\n",
    "import numpy as np\n",
    "import os\n",
    "import pandas as pd\n",
    "\n",
    "mpl.rcParams['figure.figsize'] = (8, 6)\n",
    "mpl.rcParams['axes.grid'] = False"
   ]
  },
  {
   "cell_type": "code",
   "execution_count": 56,
   "metadata": {},
   "outputs": [],
   "source": [
    "import folium\n",
    "\n",
    "from folium import FeatureGroup, LayerControl, Map, Marker\n",
    "from folium.plugins import HeatMap"
   ]
  },
  {
   "cell_type": "code",
   "execution_count": 65,
   "metadata": {},
   "outputs": [],
   "source": [
    "import datetime"
   ]
  },
  {
   "cell_type": "code",
   "execution_count": 58,
   "metadata": {
    "scrolled": false
   },
   "outputs": [
    {
     "data": {
      "text/html": [
       "<div>\n",
       "<style scoped>\n",
       "    .dataframe tbody tr th:only-of-type {\n",
       "        vertical-align: middle;\n",
       "    }\n",
       "\n",
       "    .dataframe tbody tr th {\n",
       "        vertical-align: top;\n",
       "    }\n",
       "\n",
       "    .dataframe thead th {\n",
       "        text-align: right;\n",
       "    }\n",
       "</style>\n",
       "<table border=\"1\" class=\"dataframe\">\n",
       "  <thead>\n",
       "    <tr style=\"text-align: right;\">\n",
       "      <th></th>\n",
       "      <th>VendorID</th>\n",
       "      <th>tpep_pickup_datetime</th>\n",
       "      <th>tpep_dropoff_datetime</th>\n",
       "      <th>passenger_count</th>\n",
       "      <th>trip_distance</th>\n",
       "      <th>pickup_longitude</th>\n",
       "      <th>pickup_latitude</th>\n",
       "      <th>RatecodeID</th>\n",
       "      <th>store_and_fwd_flag</th>\n",
       "      <th>dropoff_longitude</th>\n",
       "      <th>dropoff_latitude</th>\n",
       "      <th>payment_type</th>\n",
       "      <th>fare_amount</th>\n",
       "      <th>extra</th>\n",
       "      <th>mta_tax</th>\n",
       "      <th>tip_amount</th>\n",
       "      <th>tolls_amount</th>\n",
       "      <th>improvement_surcharge</th>\n",
       "      <th>total_amount</th>\n",
       "    </tr>\n",
       "  </thead>\n",
       "  <tbody>\n",
       "    <tr>\n",
       "      <th>0</th>\n",
       "      <td>1</td>\n",
       "      <td>2015-07-01 00:00:00</td>\n",
       "      <td>2015-07-01 00:15:26</td>\n",
       "      <td>1</td>\n",
       "      <td>3.5</td>\n",
       "      <td>-73.994156</td>\n",
       "      <td>40.751125</td>\n",
       "      <td>1</td>\n",
       "      <td>N</td>\n",
       "      <td>-73.976822</td>\n",
       "      <td>40.788567</td>\n",
       "      <td>2</td>\n",
       "      <td>14.0</td>\n",
       "      <td>0.5</td>\n",
       "      <td>0.5</td>\n",
       "      <td>0.00</td>\n",
       "      <td>0.0</td>\n",
       "      <td>0.3</td>\n",
       "      <td>15.30</td>\n",
       "    </tr>\n",
       "    <tr>\n",
       "      <th>1</th>\n",
       "      <td>1</td>\n",
       "      <td>2015-07-01 00:00:00</td>\n",
       "      <td>2015-07-01 00:22:22</td>\n",
       "      <td>1</td>\n",
       "      <td>3.9</td>\n",
       "      <td>-73.984657</td>\n",
       "      <td>40.768486</td>\n",
       "      <td>1</td>\n",
       "      <td>N</td>\n",
       "      <td>-74.000130</td>\n",
       "      <td>40.734898</td>\n",
       "      <td>2</td>\n",
       "      <td>17.0</td>\n",
       "      <td>0.5</td>\n",
       "      <td>0.5</td>\n",
       "      <td>0.00</td>\n",
       "      <td>0.0</td>\n",
       "      <td>0.3</td>\n",
       "      <td>18.30</td>\n",
       "    </tr>\n",
       "    <tr>\n",
       "      <th>2</th>\n",
       "      <td>1</td>\n",
       "      <td>2015-07-01 00:00:00</td>\n",
       "      <td>2015-07-01 00:07:42</td>\n",
       "      <td>1</td>\n",
       "      <td>2.3</td>\n",
       "      <td>-73.978889</td>\n",
       "      <td>40.762287</td>\n",
       "      <td>1</td>\n",
       "      <td>N</td>\n",
       "      <td>-74.004219</td>\n",
       "      <td>40.752533</td>\n",
       "      <td>2</td>\n",
       "      <td>9.0</td>\n",
       "      <td>0.5</td>\n",
       "      <td>0.5</td>\n",
       "      <td>0.00</td>\n",
       "      <td>0.0</td>\n",
       "      <td>0.3</td>\n",
       "      <td>10.30</td>\n",
       "    </tr>\n",
       "    <tr>\n",
       "      <th>3</th>\n",
       "      <td>1</td>\n",
       "      <td>2015-07-01 00:00:00</td>\n",
       "      <td>2015-07-01 00:39:37</td>\n",
       "      <td>1</td>\n",
       "      <td>9.2</td>\n",
       "      <td>-73.992790</td>\n",
       "      <td>40.742760</td>\n",
       "      <td>1</td>\n",
       "      <td>N</td>\n",
       "      <td>-73.971512</td>\n",
       "      <td>40.637154</td>\n",
       "      <td>1</td>\n",
       "      <td>33.0</td>\n",
       "      <td>0.5</td>\n",
       "      <td>0.5</td>\n",
       "      <td>8.55</td>\n",
       "      <td>0.0</td>\n",
       "      <td>0.3</td>\n",
       "      <td>42.85</td>\n",
       "    </tr>\n",
       "    <tr>\n",
       "      <th>4</th>\n",
       "      <td>1</td>\n",
       "      <td>2015-07-01 00:00:00</td>\n",
       "      <td>2015-07-01 00:05:34</td>\n",
       "      <td>1</td>\n",
       "      <td>1.1</td>\n",
       "      <td>-73.912430</td>\n",
       "      <td>40.769810</td>\n",
       "      <td>1</td>\n",
       "      <td>N</td>\n",
       "      <td>-73.920334</td>\n",
       "      <td>40.757442</td>\n",
       "      <td>1</td>\n",
       "      <td>6.0</td>\n",
       "      <td>0.5</td>\n",
       "      <td>0.5</td>\n",
       "      <td>2.00</td>\n",
       "      <td>0.0</td>\n",
       "      <td>0.3</td>\n",
       "      <td>9.30</td>\n",
       "    </tr>\n",
       "  </tbody>\n",
       "</table>\n",
       "</div>"
      ],
      "text/plain": [
       "   VendorID tpep_pickup_datetime tpep_dropoff_datetime  passenger_count  \\\n",
       "0         1  2015-07-01 00:00:00   2015-07-01 00:15:26                1   \n",
       "1         1  2015-07-01 00:00:00   2015-07-01 00:22:22                1   \n",
       "2         1  2015-07-01 00:00:00   2015-07-01 00:07:42                1   \n",
       "3         1  2015-07-01 00:00:00   2015-07-01 00:39:37                1   \n",
       "4         1  2015-07-01 00:00:00   2015-07-01 00:05:34                1   \n",
       "\n",
       "   trip_distance  pickup_longitude  pickup_latitude  RatecodeID  \\\n",
       "0            3.5        -73.994156        40.751125           1   \n",
       "1            3.9        -73.984657        40.768486           1   \n",
       "2            2.3        -73.978889        40.762287           1   \n",
       "3            9.2        -73.992790        40.742760           1   \n",
       "4            1.1        -73.912430        40.769810           1   \n",
       "\n",
       "  store_and_fwd_flag  dropoff_longitude  dropoff_latitude  payment_type  \\\n",
       "0                  N         -73.976822         40.788567             2   \n",
       "1                  N         -74.000130         40.734898             2   \n",
       "2                  N         -74.004219         40.752533             2   \n",
       "3                  N         -73.971512         40.637154             1   \n",
       "4                  N         -73.920334         40.757442             1   \n",
       "\n",
       "   fare_amount  extra  mta_tax  tip_amount  tolls_amount  \\\n",
       "0         14.0    0.5      0.5        0.00           0.0   \n",
       "1         17.0    0.5      0.5        0.00           0.0   \n",
       "2          9.0    0.5      0.5        0.00           0.0   \n",
       "3         33.0    0.5      0.5        8.55           0.0   \n",
       "4          6.0    0.5      0.5        2.00           0.0   \n",
       "\n",
       "   improvement_surcharge  total_amount  \n",
       "0                    0.3         15.30  \n",
       "1                    0.3         18.30  \n",
       "2                    0.3         10.30  \n",
       "3                    0.3         42.85  \n",
       "4                    0.3          9.30  "
      ]
     },
     "execution_count": 58,
     "metadata": {},
     "output_type": "execute_result"
    }
   ],
   "source": [
    "# ENTIRE 2019 CSV FILE\n",
    "\n",
    "taxi = pd.read_csv('yellow_tripdata_2015-07.csv')\n",
    "taxi.head()"
   ]
  },
  {
   "cell_type": "code",
   "execution_count": 59,
   "metadata": {},
   "outputs": [
    {
     "name": "stdout",
     "output_type": "stream",
     "text": [
      "11562783\n"
     ]
    }
   ],
   "source": [
    "total_rows=len(taxi.axes[0])\n",
    "total_cols=len(taxi.axes[1])\n",
    "\n",
    "print(total_rows)"
   ]
  },
  {
   "cell_type": "code",
   "execution_count": 60,
   "metadata": {
    "scrolled": true
   },
   "outputs": [
    {
     "data": {
      "text/html": [
       "<div>\n",
       "<style scoped>\n",
       "    .dataframe tbody tr th:only-of-type {\n",
       "        vertical-align: middle;\n",
       "    }\n",
       "\n",
       "    .dataframe tbody tr th {\n",
       "        vertical-align: top;\n",
       "    }\n",
       "\n",
       "    .dataframe thead th {\n",
       "        text-align: right;\n",
       "    }\n",
       "</style>\n",
       "<table border=\"1\" class=\"dataframe\">\n",
       "  <thead>\n",
       "    <tr style=\"text-align: right;\">\n",
       "      <th></th>\n",
       "      <th>VendorID</th>\n",
       "      <th>tpep_pickup_datetime</th>\n",
       "      <th>tpep_dropoff_datetime</th>\n",
       "      <th>passenger_count</th>\n",
       "      <th>trip_distance</th>\n",
       "      <th>pickup_longitude</th>\n",
       "      <th>pickup_latitude</th>\n",
       "      <th>RatecodeID</th>\n",
       "      <th>store_and_fwd_flag</th>\n",
       "      <th>dropoff_longitude</th>\n",
       "      <th>dropoff_latitude</th>\n",
       "      <th>payment_type</th>\n",
       "      <th>fare_amount</th>\n",
       "      <th>extra</th>\n",
       "      <th>mta_tax</th>\n",
       "      <th>tip_amount</th>\n",
       "      <th>tolls_amount</th>\n",
       "      <th>improvement_surcharge</th>\n",
       "      <th>total_amount</th>\n",
       "    </tr>\n",
       "  </thead>\n",
       "  <tbody>\n",
       "    <tr>\n",
       "      <th>11557783</th>\n",
       "      <td>2</td>\n",
       "      <td>2015-07-31 20:51:53</td>\n",
       "      <td>2015-07-31 20:56:29</td>\n",
       "      <td>1</td>\n",
       "      <td>1.41</td>\n",
       "      <td>-73.965797</td>\n",
       "      <td>40.762852</td>\n",
       "      <td>1</td>\n",
       "      <td>N</td>\n",
       "      <td>-73.951363</td>\n",
       "      <td>40.772839</td>\n",
       "      <td>1</td>\n",
       "      <td>6.5</td>\n",
       "      <td>0.5</td>\n",
       "      <td>0.5</td>\n",
       "      <td>2.34</td>\n",
       "      <td>0.0</td>\n",
       "      <td>0.3</td>\n",
       "      <td>10.14</td>\n",
       "    </tr>\n",
       "    <tr>\n",
       "      <th>11557784</th>\n",
       "      <td>2</td>\n",
       "      <td>2015-07-31 20:51:53</td>\n",
       "      <td>2015-07-31 21:24:05</td>\n",
       "      <td>1</td>\n",
       "      <td>4.72</td>\n",
       "      <td>-74.003738</td>\n",
       "      <td>40.720146</td>\n",
       "      <td>1</td>\n",
       "      <td>N</td>\n",
       "      <td>-73.958130</td>\n",
       "      <td>40.772953</td>\n",
       "      <td>2</td>\n",
       "      <td>22.0</td>\n",
       "      <td>0.5</td>\n",
       "      <td>0.5</td>\n",
       "      <td>0.00</td>\n",
       "      <td>0.0</td>\n",
       "      <td>0.3</td>\n",
       "      <td>23.30</td>\n",
       "    </tr>\n",
       "    <tr>\n",
       "      <th>11557785</th>\n",
       "      <td>2</td>\n",
       "      <td>2015-07-31 20:51:53</td>\n",
       "      <td>2015-07-31 21:08:24</td>\n",
       "      <td>1</td>\n",
       "      <td>2.34</td>\n",
       "      <td>-73.992851</td>\n",
       "      <td>40.758118</td>\n",
       "      <td>1</td>\n",
       "      <td>N</td>\n",
       "      <td>-73.985626</td>\n",
       "      <td>40.735493</td>\n",
       "      <td>1</td>\n",
       "      <td>12.5</td>\n",
       "      <td>0.5</td>\n",
       "      <td>0.5</td>\n",
       "      <td>2.76</td>\n",
       "      <td>0.0</td>\n",
       "      <td>0.3</td>\n",
       "      <td>16.56</td>\n",
       "    </tr>\n",
       "    <tr>\n",
       "      <th>11557786</th>\n",
       "      <td>2</td>\n",
       "      <td>2015-07-31 20:51:53</td>\n",
       "      <td>2015-07-31 21:20:58</td>\n",
       "      <td>1</td>\n",
       "      <td>5.09</td>\n",
       "      <td>-73.950272</td>\n",
       "      <td>40.779835</td>\n",
       "      <td>1</td>\n",
       "      <td>N</td>\n",
       "      <td>-74.005241</td>\n",
       "      <td>40.738182</td>\n",
       "      <td>2</td>\n",
       "      <td>21.0</td>\n",
       "      <td>0.5</td>\n",
       "      <td>0.5</td>\n",
       "      <td>0.00</td>\n",
       "      <td>0.0</td>\n",
       "      <td>0.3</td>\n",
       "      <td>22.30</td>\n",
       "    </tr>\n",
       "    <tr>\n",
       "      <th>11557787</th>\n",
       "      <td>1</td>\n",
       "      <td>2015-07-31 20:51:54</td>\n",
       "      <td>2015-07-31 21:00:32</td>\n",
       "      <td>1</td>\n",
       "      <td>1.20</td>\n",
       "      <td>-73.925529</td>\n",
       "      <td>40.770466</td>\n",
       "      <td>1</td>\n",
       "      <td>Y</td>\n",
       "      <td>-73.920044</td>\n",
       "      <td>40.776222</td>\n",
       "      <td>2</td>\n",
       "      <td>7.5</td>\n",
       "      <td>0.5</td>\n",
       "      <td>0.5</td>\n",
       "      <td>0.00</td>\n",
       "      <td>0.0</td>\n",
       "      <td>0.3</td>\n",
       "      <td>8.80</td>\n",
       "    </tr>\n",
       "  </tbody>\n",
       "</table>\n",
       "</div>"
      ],
      "text/plain": [
       "          VendorID tpep_pickup_datetime tpep_dropoff_datetime  \\\n",
       "11557783         2  2015-07-31 20:51:53   2015-07-31 20:56:29   \n",
       "11557784         2  2015-07-31 20:51:53   2015-07-31 21:24:05   \n",
       "11557785         2  2015-07-31 20:51:53   2015-07-31 21:08:24   \n",
       "11557786         2  2015-07-31 20:51:53   2015-07-31 21:20:58   \n",
       "11557787         1  2015-07-31 20:51:54   2015-07-31 21:00:32   \n",
       "\n",
       "          passenger_count  trip_distance  pickup_longitude  pickup_latitude  \\\n",
       "11557783                1           1.41        -73.965797        40.762852   \n",
       "11557784                1           4.72        -74.003738        40.720146   \n",
       "11557785                1           2.34        -73.992851        40.758118   \n",
       "11557786                1           5.09        -73.950272        40.779835   \n",
       "11557787                1           1.20        -73.925529        40.770466   \n",
       "\n",
       "          RatecodeID store_and_fwd_flag  dropoff_longitude  dropoff_latitude  \\\n",
       "11557783           1                  N         -73.951363         40.772839   \n",
       "11557784           1                  N         -73.958130         40.772953   \n",
       "11557785           1                  N         -73.985626         40.735493   \n",
       "11557786           1                  N         -74.005241         40.738182   \n",
       "11557787           1                  Y         -73.920044         40.776222   \n",
       "\n",
       "          payment_type  fare_amount  extra  mta_tax  tip_amount  tolls_amount  \\\n",
       "11557783             1          6.5    0.5      0.5        2.34           0.0   \n",
       "11557784             2         22.0    0.5      0.5        0.00           0.0   \n",
       "11557785             1         12.5    0.5      0.5        2.76           0.0   \n",
       "11557786             2         21.0    0.5      0.5        0.00           0.0   \n",
       "11557787             2          7.5    0.5      0.5        0.00           0.0   \n",
       "\n",
       "          improvement_surcharge  total_amount  \n",
       "11557783                    0.3         10.14  \n",
       "11557784                    0.3         23.30  \n",
       "11557785                    0.3         16.56  \n",
       "11557786                    0.3         22.30  \n",
       "11557787                    0.3          8.80  "
      ]
     },
     "execution_count": 60,
     "metadata": {},
     "output_type": "execute_result"
    }
   ],
   "source": [
    "new_taxi = taxi.drop(taxi.index[0:11557783])\n",
    "new_taxi.head()"
   ]
  },
  {
   "cell_type": "code",
   "execution_count": 61,
   "metadata": {},
   "outputs": [
    {
     "name": "stdout",
     "output_type": "stream",
     "text": [
      "5000\n"
     ]
    }
   ],
   "source": [
    "total_rows=len(new_taxi.axes[0])\n",
    "total_cols=len(new_taxi.axes[1])\n",
    "\n",
    "print(total_rows)"
   ]
  },
  {
   "cell_type": "code",
   "execution_count": 62,
   "metadata": {
    "scrolled": true
   },
   "outputs": [
    {
     "data": {
      "text/html": [
       "<div>\n",
       "<style scoped>\n",
       "    .dataframe tbody tr th:only-of-type {\n",
       "        vertical-align: middle;\n",
       "    }\n",
       "\n",
       "    .dataframe tbody tr th {\n",
       "        vertical-align: top;\n",
       "    }\n",
       "\n",
       "    .dataframe thead th {\n",
       "        text-align: right;\n",
       "    }\n",
       "</style>\n",
       "<table border=\"1\" class=\"dataframe\">\n",
       "  <thead>\n",
       "    <tr style=\"text-align: right;\">\n",
       "      <th></th>\n",
       "      <th>VendorID</th>\n",
       "      <th>tpep_pickup_datetime</th>\n",
       "      <th>pickup_longitude</th>\n",
       "      <th>pickup_latitude</th>\n",
       "    </tr>\n",
       "  </thead>\n",
       "  <tbody>\n",
       "    <tr>\n",
       "      <th>11557783</th>\n",
       "      <td>2</td>\n",
       "      <td>2015-07-31 20:51:53</td>\n",
       "      <td>-73.965797</td>\n",
       "      <td>40.762852</td>\n",
       "    </tr>\n",
       "    <tr>\n",
       "      <th>11557784</th>\n",
       "      <td>2</td>\n",
       "      <td>2015-07-31 20:51:53</td>\n",
       "      <td>-74.003738</td>\n",
       "      <td>40.720146</td>\n",
       "    </tr>\n",
       "    <tr>\n",
       "      <th>11557785</th>\n",
       "      <td>2</td>\n",
       "      <td>2015-07-31 20:51:53</td>\n",
       "      <td>-73.992851</td>\n",
       "      <td>40.758118</td>\n",
       "    </tr>\n",
       "    <tr>\n",
       "      <th>11557786</th>\n",
       "      <td>2</td>\n",
       "      <td>2015-07-31 20:51:53</td>\n",
       "      <td>-73.950272</td>\n",
       "      <td>40.779835</td>\n",
       "    </tr>\n",
       "    <tr>\n",
       "      <th>11557787</th>\n",
       "      <td>1</td>\n",
       "      <td>2015-07-31 20:51:54</td>\n",
       "      <td>-73.925529</td>\n",
       "      <td>40.770466</td>\n",
       "    </tr>\n",
       "  </tbody>\n",
       "</table>\n",
       "</div>"
      ],
      "text/plain": [
       "          VendorID tpep_pickup_datetime  pickup_longitude  pickup_latitude\n",
       "11557783         2  2015-07-31 20:51:53        -73.965797        40.762852\n",
       "11557784         2  2015-07-31 20:51:53        -74.003738        40.720146\n",
       "11557785         2  2015-07-31 20:51:53        -73.992851        40.758118\n",
       "11557786         2  2015-07-31 20:51:53        -73.950272        40.779835\n",
       "11557787         1  2015-07-31 20:51:54        -73.925529        40.770466"
      ]
     },
     "execution_count": 62,
     "metadata": {},
     "output_type": "execute_result"
    }
   ],
   "source": [
    "# REDUCE CSV FILE TO COLUMNS NEEDED\n",
    "\n",
    "taxi_reduced = new_taxi[['VendorID', 'tpep_pickup_datetime', 'pickup_longitude', 'pickup_latitude']]\n",
    "taxi_reduced.head()"
   ]
  },
  {
   "cell_type": "code",
   "execution_count": 71,
   "metadata": {
    "scrolled": false
   },
   "outputs": [
    {
     "name": "stderr",
     "output_type": "stream",
     "text": [
      "/Users/michaelduval/PythonData/lib/python3.7/site-packages/ipykernel_launcher.py:1: SettingWithCopyWarning: \n",
      "A value is trying to be set on a copy of a slice from a DataFrame.\n",
      "Try using .loc[row_indexer,col_indexer] = value instead\n",
      "\n",
      "See the caveats in the documentation: http://pandas.pydata.org/pandas-docs/stable/user_guide/indexing.html#returning-a-view-versus-a-copy\n",
      "  \"\"\"Entry point for launching an IPython kernel.\n",
      "/Users/michaelduval/PythonData/lib/python3.7/site-packages/ipykernel_launcher.py:2: SettingWithCopyWarning: \n",
      "A value is trying to be set on a copy of a slice from a DataFrame.\n",
      "Try using .loc[row_indexer,col_indexer] = value instead\n",
      "\n",
      "See the caveats in the documentation: http://pandas.pydata.org/pandas-docs/stable/user_guide/indexing.html#returning-a-view-versus-a-copy\n",
      "  \n"
     ]
    },
    {
     "data": {
      "text/html": [
       "<div>\n",
       "<style scoped>\n",
       "    .dataframe tbody tr th:only-of-type {\n",
       "        vertical-align: middle;\n",
       "    }\n",
       "\n",
       "    .dataframe tbody tr th {\n",
       "        vertical-align: top;\n",
       "    }\n",
       "\n",
       "    .dataframe thead th {\n",
       "        text-align: right;\n",
       "    }\n",
       "</style>\n",
       "<table border=\"1\" class=\"dataframe\">\n",
       "  <thead>\n",
       "    <tr style=\"text-align: right;\">\n",
       "      <th></th>\n",
       "      <th>VendorID</th>\n",
       "      <th>tpep_pickup_datetime</th>\n",
       "      <th>pickup_longitude</th>\n",
       "      <th>pickup_latitude</th>\n",
       "    </tr>\n",
       "  </thead>\n",
       "  <tbody>\n",
       "    <tr>\n",
       "      <th>11557783</th>\n",
       "      <td>2</td>\n",
       "      <td>2015-07-31 20:51:53</td>\n",
       "      <td>-73.966</td>\n",
       "      <td>40.763</td>\n",
       "    </tr>\n",
       "    <tr>\n",
       "      <th>11557784</th>\n",
       "      <td>2</td>\n",
       "      <td>2015-07-31 20:51:53</td>\n",
       "      <td>-74.004</td>\n",
       "      <td>40.720</td>\n",
       "    </tr>\n",
       "    <tr>\n",
       "      <th>11557785</th>\n",
       "      <td>2</td>\n",
       "      <td>2015-07-31 20:51:53</td>\n",
       "      <td>-73.993</td>\n",
       "      <td>40.758</td>\n",
       "    </tr>\n",
       "    <tr>\n",
       "      <th>11557786</th>\n",
       "      <td>2</td>\n",
       "      <td>2015-07-31 20:51:53</td>\n",
       "      <td>-73.950</td>\n",
       "      <td>40.780</td>\n",
       "    </tr>\n",
       "    <tr>\n",
       "      <th>11557787</th>\n",
       "      <td>1</td>\n",
       "      <td>2015-07-31 20:51:54</td>\n",
       "      <td>-73.926</td>\n",
       "      <td>40.770</td>\n",
       "    </tr>\n",
       "  </tbody>\n",
       "</table>\n",
       "</div>"
      ],
      "text/plain": [
       "          VendorID tpep_pickup_datetime  pickup_longitude  pickup_latitude\n",
       "11557783         2  2015-07-31 20:51:53           -73.966           40.763\n",
       "11557784         2  2015-07-31 20:51:53           -74.004           40.720\n",
       "11557785         2  2015-07-31 20:51:53           -73.993           40.758\n",
       "11557786         2  2015-07-31 20:51:53           -73.950           40.780\n",
       "11557787         1  2015-07-31 20:51:54           -73.926           40.770"
      ]
     },
     "execution_count": 71,
     "metadata": {},
     "output_type": "execute_result"
    }
   ],
   "source": [
    "taxi_reduced['pickup_latitude'] = taxi_reduced['pickup_latitude'].apply(lambda x:round(x,3))\n",
    "taxi_reduced['pickup_longitude'] = taxi_reduced['pickup_longitude'].apply(lambda x:round(x,3))\n",
    "\n",
    "taxi_reduced.head()"
   ]
  },
  {
   "cell_type": "code",
   "execution_count": 73,
   "metadata": {},
   "outputs": [
    {
     "name": "stderr",
     "output_type": "stream",
     "text": [
      "/Users/michaelduval/PythonData/lib/python3.7/site-packages/ipykernel_launcher.py:1: SettingWithCopyWarning: \n",
      "A value is trying to be set on a copy of a slice from a DataFrame.\n",
      "Try using .loc[row_indexer,col_indexer] = value instead\n",
      "\n",
      "See the caveats in the documentation: http://pandas.pydata.org/pandas-docs/stable/user_guide/indexing.html#returning-a-view-versus-a-copy\n",
      "  \"\"\"Entry point for launching an IPython kernel.\n",
      "/Users/michaelduval/PythonData/lib/python3.7/site-packages/ipykernel_launcher.py:2: SettingWithCopyWarning: \n",
      "A value is trying to be set on a copy of a slice from a DataFrame.\n",
      "Try using .loc[row_indexer,col_indexer] = value instead\n",
      "\n",
      "See the caveats in the documentation: http://pandas.pydata.org/pandas-docs/stable/user_guide/indexing.html#returning-a-view-versus-a-copy\n",
      "  \n"
     ]
    },
    {
     "data": {
      "text/html": [
       "<div>\n",
       "<style scoped>\n",
       "    .dataframe tbody tr th:only-of-type {\n",
       "        vertical-align: middle;\n",
       "    }\n",
       "\n",
       "    .dataframe tbody tr th {\n",
       "        vertical-align: top;\n",
       "    }\n",
       "\n",
       "    .dataframe thead th {\n",
       "        text-align: right;\n",
       "    }\n",
       "</style>\n",
       "<table border=\"1\" class=\"dataframe\">\n",
       "  <thead>\n",
       "    <tr style=\"text-align: right;\">\n",
       "      <th></th>\n",
       "      <th>VendorID</th>\n",
       "      <th>tpep_pickup_datetime</th>\n",
       "      <th>pickup_longitude</th>\n",
       "      <th>pickup_latitude</th>\n",
       "    </tr>\n",
       "  </thead>\n",
       "  <tbody>\n",
       "    <tr>\n",
       "      <th>11557783</th>\n",
       "      <td>2</td>\n",
       "      <td>2015-07-31 20:51:00</td>\n",
       "      <td>-73.966</td>\n",
       "      <td>40.763</td>\n",
       "    </tr>\n",
       "    <tr>\n",
       "      <th>11557784</th>\n",
       "      <td>2</td>\n",
       "      <td>2015-07-31 20:51:00</td>\n",
       "      <td>-74.004</td>\n",
       "      <td>40.720</td>\n",
       "    </tr>\n",
       "    <tr>\n",
       "      <th>11557785</th>\n",
       "      <td>2</td>\n",
       "      <td>2015-07-31 20:51:00</td>\n",
       "      <td>-73.993</td>\n",
       "      <td>40.758</td>\n",
       "    </tr>\n",
       "    <tr>\n",
       "      <th>11557786</th>\n",
       "      <td>2</td>\n",
       "      <td>2015-07-31 20:51:00</td>\n",
       "      <td>-73.950</td>\n",
       "      <td>40.780</td>\n",
       "    </tr>\n",
       "    <tr>\n",
       "      <th>11557787</th>\n",
       "      <td>1</td>\n",
       "      <td>2015-07-31 20:51:00</td>\n",
       "      <td>-73.926</td>\n",
       "      <td>40.770</td>\n",
       "    </tr>\n",
       "    <tr>\n",
       "      <th>...</th>\n",
       "      <td>...</td>\n",
       "      <td>...</td>\n",
       "      <td>...</td>\n",
       "      <td>...</td>\n",
       "    </tr>\n",
       "    <tr>\n",
       "      <th>11562778</th>\n",
       "      <td>1</td>\n",
       "      <td>2015-07-02 13:05:00</td>\n",
       "      <td>-73.992</td>\n",
       "      <td>40.750</td>\n",
       "    </tr>\n",
       "    <tr>\n",
       "      <th>11562779</th>\n",
       "      <td>1</td>\n",
       "      <td>2015-07-02 13:18:00</td>\n",
       "      <td>-73.991</td>\n",
       "      <td>40.750</td>\n",
       "    </tr>\n",
       "    <tr>\n",
       "      <th>11562780</th>\n",
       "      <td>1</td>\n",
       "      <td>2015-07-02 13:36:00</td>\n",
       "      <td>-73.992</td>\n",
       "      <td>40.750</td>\n",
       "    </tr>\n",
       "    <tr>\n",
       "      <th>11562781</th>\n",
       "      <td>1</td>\n",
       "      <td>2015-07-02 13:50:00</td>\n",
       "      <td>-73.992</td>\n",
       "      <td>40.749</td>\n",
       "    </tr>\n",
       "    <tr>\n",
       "      <th>11562782</th>\n",
       "      <td>1</td>\n",
       "      <td>2015-07-02 14:04:00</td>\n",
       "      <td>-73.992</td>\n",
       "      <td>40.749</td>\n",
       "    </tr>\n",
       "  </tbody>\n",
       "</table>\n",
       "<p>5000 rows × 4 columns</p>\n",
       "</div>"
      ],
      "text/plain": [
       "          VendorID tpep_pickup_datetime  pickup_longitude  pickup_latitude\n",
       "11557783         2  2015-07-31 20:51:00           -73.966           40.763\n",
       "11557784         2  2015-07-31 20:51:00           -74.004           40.720\n",
       "11557785         2  2015-07-31 20:51:00           -73.993           40.758\n",
       "11557786         2  2015-07-31 20:51:00           -73.950           40.780\n",
       "11557787         1  2015-07-31 20:51:00           -73.926           40.770\n",
       "...            ...                  ...               ...              ...\n",
       "11562778         1  2015-07-02 13:05:00           -73.992           40.750\n",
       "11562779         1  2015-07-02 13:18:00           -73.991           40.750\n",
       "11562780         1  2015-07-02 13:36:00           -73.992           40.750\n",
       "11562781         1  2015-07-02 13:50:00           -73.992           40.749\n",
       "11562782         1  2015-07-02 14:04:00           -73.992           40.749\n",
       "\n",
       "[5000 rows x 4 columns]"
      ]
     },
     "execution_count": 73,
     "metadata": {},
     "output_type": "execute_result"
    }
   ],
   "source": [
    "taxi_reduced['tpep_pickup_datetime'] = pd.to_datetime(taxi_reduced['tpep_pickup_datetime'])\n",
    "taxi_reduced['tpep_pickup_datetime'] = taxi_reduced['tpep_pickup_datetime'].apply(lambda t: t.replace(second=0))\n",
    "taxi_reduced"
   ]
  },
  {
   "cell_type": "code",
   "execution_count": 74,
   "metadata": {},
   "outputs": [
    {
     "data": {
      "text/plain": [
       "pickup_longitude  pickup_latitude\n",
       "-74.193           40.838               1\n",
       "-74.035           40.727               1\n",
       "-74.017           40.705               2\n",
       "                  40.708               1\n",
       "                  40.709               1\n",
       "                                    ... \n",
       "-73.781           40.645               1\n",
       "-73.777           40.645               7\n",
       "                  40.646               2\n",
       "-73.725           40.737               1\n",
       " 0.000            0.000              762\n",
       "Name: VendorID, Length: 1563, dtype: int64"
      ]
     },
     "execution_count": 74,
     "metadata": {},
     "output_type": "execute_result"
    }
   ],
   "source": [
    "taxi_reduced.groupby(['pickup_longitude','pickup_latitude'])['VendorID'].count()"
   ]
  },
  {
   "cell_type": "code",
   "execution_count": 77,
   "metadata": {},
   "outputs": [
    {
     "data": {
      "text/html": [
       "<div>\n",
       "<style scoped>\n",
       "    .dataframe tbody tr th:only-of-type {\n",
       "        vertical-align: middle;\n",
       "    }\n",
       "\n",
       "    .dataframe tbody tr th {\n",
       "        vertical-align: top;\n",
       "    }\n",
       "\n",
       "    .dataframe thead th {\n",
       "        text-align: right;\n",
       "    }\n",
       "</style>\n",
       "<table border=\"1\" class=\"dataframe\">\n",
       "  <thead>\n",
       "    <tr style=\"text-align: right;\">\n",
       "      <th></th>\n",
       "      <th>VendorID</th>\n",
       "      <th>tpep_pickup_datetime</th>\n",
       "      <th>pickup_longitude</th>\n",
       "      <th>pickup_latitude</th>\n",
       "    </tr>\n",
       "  </thead>\n",
       "  <tbody>\n",
       "    <tr>\n",
       "      <th>11557783</th>\n",
       "      <td>2</td>\n",
       "      <td>2015-07-31 20:51:00</td>\n",
       "      <td>-73.966</td>\n",
       "      <td>40.763</td>\n",
       "    </tr>\n",
       "    <tr>\n",
       "      <th>11557784</th>\n",
       "      <td>2</td>\n",
       "      <td>2015-07-31 20:51:00</td>\n",
       "      <td>-74.004</td>\n",
       "      <td>40.720</td>\n",
       "    </tr>\n",
       "    <tr>\n",
       "      <th>11557785</th>\n",
       "      <td>2</td>\n",
       "      <td>2015-07-31 20:51:00</td>\n",
       "      <td>-73.993</td>\n",
       "      <td>40.758</td>\n",
       "    </tr>\n",
       "    <tr>\n",
       "      <th>11557786</th>\n",
       "      <td>2</td>\n",
       "      <td>2015-07-31 20:51:00</td>\n",
       "      <td>-73.950</td>\n",
       "      <td>40.780</td>\n",
       "    </tr>\n",
       "    <tr>\n",
       "      <th>11557787</th>\n",
       "      <td>1</td>\n",
       "      <td>2015-07-31 20:51:00</td>\n",
       "      <td>-73.926</td>\n",
       "      <td>40.770</td>\n",
       "    </tr>\n",
       "    <tr>\n",
       "      <th>...</th>\n",
       "      <td>...</td>\n",
       "      <td>...</td>\n",
       "      <td>...</td>\n",
       "      <td>...</td>\n",
       "    </tr>\n",
       "    <tr>\n",
       "      <th>11562778</th>\n",
       "      <td>1</td>\n",
       "      <td>2015-07-02 13:05:00</td>\n",
       "      <td>-73.992</td>\n",
       "      <td>40.750</td>\n",
       "    </tr>\n",
       "    <tr>\n",
       "      <th>11562779</th>\n",
       "      <td>1</td>\n",
       "      <td>2015-07-02 13:18:00</td>\n",
       "      <td>-73.991</td>\n",
       "      <td>40.750</td>\n",
       "    </tr>\n",
       "    <tr>\n",
       "      <th>11562780</th>\n",
       "      <td>1</td>\n",
       "      <td>2015-07-02 13:36:00</td>\n",
       "      <td>-73.992</td>\n",
       "      <td>40.750</td>\n",
       "    </tr>\n",
       "    <tr>\n",
       "      <th>11562781</th>\n",
       "      <td>1</td>\n",
       "      <td>2015-07-02 13:50:00</td>\n",
       "      <td>-73.992</td>\n",
       "      <td>40.749</td>\n",
       "    </tr>\n",
       "    <tr>\n",
       "      <th>11562782</th>\n",
       "      <td>1</td>\n",
       "      <td>2015-07-02 14:04:00</td>\n",
       "      <td>-73.992</td>\n",
       "      <td>40.749</td>\n",
       "    </tr>\n",
       "  </tbody>\n",
       "</table>\n",
       "<p>4238 rows × 4 columns</p>\n",
       "</div>"
      ],
      "text/plain": [
       "          VendorID tpep_pickup_datetime  pickup_longitude  pickup_latitude\n",
       "11557783         2  2015-07-31 20:51:00           -73.966           40.763\n",
       "11557784         2  2015-07-31 20:51:00           -74.004           40.720\n",
       "11557785         2  2015-07-31 20:51:00           -73.993           40.758\n",
       "11557786         2  2015-07-31 20:51:00           -73.950           40.780\n",
       "11557787         1  2015-07-31 20:51:00           -73.926           40.770\n",
       "...            ...                  ...               ...              ...\n",
       "11562778         1  2015-07-02 13:05:00           -73.992           40.750\n",
       "11562779         1  2015-07-02 13:18:00           -73.991           40.750\n",
       "11562780         1  2015-07-02 13:36:00           -73.992           40.750\n",
       "11562781         1  2015-07-02 13:50:00           -73.992           40.749\n",
       "11562782         1  2015-07-02 14:04:00           -73.992           40.749\n",
       "\n",
       "[4238 rows x 4 columns]"
      ]
     },
     "execution_count": 77,
     "metadata": {},
     "output_type": "execute_result"
    }
   ],
   "source": [
    "taxi_good = taxi_reduced[(taxi_reduced != 0).all(1)]\n",
    "taxi_good"
   ]
  },
  {
   "cell_type": "code",
   "execution_count": 78,
   "metadata": {
    "scrolled": true
   },
   "outputs": [
    {
     "data": {
      "text/plain": [
       "VendorID                         int64\n",
       "tpep_pickup_datetime    datetime64[ns]\n",
       "pickup_longitude               float64\n",
       "pickup_latitude                float64\n",
       "dtype: object"
      ]
     },
     "execution_count": 78,
     "metadata": {},
     "output_type": "execute_result"
    }
   ],
   "source": [
    "taxi_good.dtypes"
   ]
  },
  {
   "cell_type": "code",
   "execution_count": 79,
   "metadata": {
    "scrolled": true
   },
   "outputs": [
    {
     "name": "stderr",
     "output_type": "stream",
     "text": [
      "/Users/michaelduval/PythonData/lib/python3.7/site-packages/ipykernel_launcher.py:1: SettingWithCopyWarning: \n",
      "A value is trying to be set on a copy of a slice from a DataFrame.\n",
      "Try using .loc[row_indexer,col_indexer] = value instead\n",
      "\n",
      "See the caveats in the documentation: http://pandas.pydata.org/pandas-docs/stable/user_guide/indexing.html#returning-a-view-versus-a-copy\n",
      "  \"\"\"Entry point for launching an IPython kernel.\n"
     ]
    }
   ],
   "source": [
    "taxi_good['VendorID'] = taxi_good['VendorID'].astype(np.float)"
   ]
  },
  {
   "cell_type": "code",
   "execution_count": 80,
   "metadata": {},
   "outputs": [
    {
     "data": {
      "text/html": [
       "<div style=\"width:100%;\"><div style=\"position:relative;width:100%;height:0;padding-bottom:60%;\"><iframe src=\"data:text/html;charset=utf-8;base64,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\" style=\"position:absolute;width:100%;height:100%;left:0;top:0;border:none !important;\" allowfullscreen webkitallowfullscreen mozallowfullscreen></iframe></div></div>"
      ],
      "text/plain": [
       "<folium.folium.Map at 0x133dd78d0>"
      ]
     },
     "execution_count": 80,
     "metadata": {},
     "output_type": "execute_result"
    }
   ],
   "source": [
    "pickup_map = folium.Map(location = [40.730610,-73.935242],zoom_start = 10,)\n",
    "\n",
    "'''\n",
    "for index, row in taxi_good.iterrows():\n",
    "    \n",
    "    folium.CircleMarker([row['pickup_latitude'], row['pickup_longitude']],\n",
    "                        radius=3,\n",
    "                        \n",
    "                        fill_color=\"#3db7e4\", \n",
    "                        fill_opacity=0.9\n",
    "                       ).add_to(pickup_map)\n",
    "    count=count + 1\n",
    "\n",
    "\n",
    "'''\n",
    "\n",
    "hm_wide = HeatMap( list(zip(taxi_good.pickup_latitude.values, taxi_good.pickup_longitude.values, taxi_good.VendorID.values)),\n",
    "                     min_opacity=0.2,\n",
    "                     radius=5, blur=15,\n",
    "                     max_zoom=1 \n",
    "                 )\n",
    "pickup_map.add_child(hm_wide)\n",
    "\n",
    "pickup_map"
   ]
  },
  {
   "cell_type": "code",
   "execution_count": 83,
   "metadata": {},
   "outputs": [],
   "source": [
    "# REFORMAT DATA\n",
    "\n",
    "data = taxi_good.values\n",
    "X = data[:, 1:4]\n",
    "y = data[:, 3]"
   ]
  },
  {
   "cell_type": "code",
   "execution_count": 86,
   "metadata": {},
   "outputs": [],
   "source": [
    "from sklearn.model_selection import train_test_split\n",
    "from sklearn.preprocessing import LabelEncoder, MinMaxScaler\n",
    "from tensorflow.keras.utils import to_categorical"
   ]
  },
  {
   "cell_type": "code",
   "execution_count": 89,
   "metadata": {},
   "outputs": [],
   "source": [
    "X_train, X_test, y_train, y_test = train_test_split(X, y, random_state=1)"
   ]
  },
  {
   "cell_type": "code",
   "execution_count": 91,
   "metadata": {
    "scrolled": false
   },
   "outputs": [
    {
     "data": {
      "text/plain": [
       "VendorID                0.0\n",
       "tpep_pickup_datetime    0.0\n",
       "pickup_longitude        0.0\n",
       "pickup_latitude         0.0\n",
       "dtype: float64"
      ]
     },
     "execution_count": 91,
     "metadata": {},
     "output_type": "execute_result"
    }
   ],
   "source": [
    "# ANY MISSING VALUES IN DATASET?\n",
    "\n",
    "taxi_reduced[pd.isnull(taxi_reduced)].sum()"
   ]
  },
  {
   "cell_type": "code",
   "execution_count": 102,
   "metadata": {},
   "outputs": [],
   "source": [
    "from tensorflow.keras.models import Sequential\n",
    "from tensorflow.keras.layers import Dense"
   ]
  },
  {
   "cell_type": "code",
   "execution_count": 103,
   "metadata": {},
   "outputs": [],
   "source": [
    "# Create model and add layers\n",
    "model = Sequential()\n",
    "model.add(Dense(units=100, activation='relu', input_dim=3))\n",
    "model.add(Dense(units=100, activation='relu'))\n",
    "model.add(Dense(units=2, activation='softmax'))"
   ]
  },
  {
   "cell_type": "code",
   "execution_count": 104,
   "metadata": {},
   "outputs": [],
   "source": [
    "# Compile and fit the model\n",
    "model.compile(optimizer='adam',\n",
    "              loss='sparse_categorical_crossentropy',\n",
    "              metrics=['accuracy'])"
   ]
  },
  {
   "cell_type": "code",
   "execution_count": 105,
   "metadata": {},
   "outputs": [
    {
     "name": "stdout",
     "output_type": "stream",
     "text": [
      "Model: \"sequential_2\"\n",
      "_________________________________________________________________\n",
      "Layer (type)                 Output Shape              Param #   \n",
      "=================================================================\n",
      "dense_6 (Dense)              (None, 100)               400       \n",
      "_________________________________________________________________\n",
      "dense_7 (Dense)              (None, 100)               10100     \n",
      "_________________________________________________________________\n",
      "dense_8 (Dense)              (None, 2)                 202       \n",
      "=================================================================\n",
      "Total params: 10,702\n",
      "Trainable params: 10,702\n",
      "Non-trainable params: 0\n",
      "_________________________________________________________________\n"
     ]
    }
   ],
   "source": [
    "model.summary()"
   ]
  },
  {
   "cell_type": "code",
   "execution_count": 106,
   "metadata": {},
   "outputs": [
    {
     "ename": "ValueError",
     "evalue": "Failed to convert a NumPy array to a Tensor (Unsupported object type Timestamp).",
     "output_type": "error",
     "traceback": [
      "\u001b[0;31m---------------------------------------------------------------------------\u001b[0m",
      "\u001b[0;31mValueError\u001b[0m                                Traceback (most recent call last)",
      "\u001b[0;32m<ipython-input-106-e0b07a54346a>\u001b[0m in \u001b[0;36m<module>\u001b[0;34m\u001b[0m\n\u001b[1;32m      4\u001b[0m     \u001b[0mepochs\u001b[0m\u001b[0;34m=\u001b[0m\u001b[0;36m60\u001b[0m\u001b[0;34m,\u001b[0m\u001b[0;34m\u001b[0m\u001b[0;34m\u001b[0m\u001b[0m\n\u001b[1;32m      5\u001b[0m     \u001b[0mshuffle\u001b[0m\u001b[0;34m=\u001b[0m\u001b[0;32mTrue\u001b[0m\u001b[0;34m,\u001b[0m\u001b[0;34m\u001b[0m\u001b[0;34m\u001b[0m\u001b[0m\n\u001b[0;32m----> 6\u001b[0;31m     \u001b[0mverbose\u001b[0m\u001b[0;34m=\u001b[0m\u001b[0;36m2\u001b[0m\u001b[0;34m\u001b[0m\u001b[0;34m\u001b[0m\u001b[0m\n\u001b[0m\u001b[1;32m      7\u001b[0m )\n",
      "\u001b[0;32m~/PythonData/lib/python3.7/site-packages/tensorflow_core/python/keras/engine/training.py\u001b[0m in \u001b[0;36mfit\u001b[0;34m(self, x, y, batch_size, epochs, verbose, callbacks, validation_split, validation_data, shuffle, class_weight, sample_weight, initial_epoch, steps_per_epoch, validation_steps, validation_freq, max_queue_size, workers, use_multiprocessing, **kwargs)\u001b[0m\n\u001b[1;32m    726\u001b[0m         \u001b[0mmax_queue_size\u001b[0m\u001b[0;34m=\u001b[0m\u001b[0mmax_queue_size\u001b[0m\u001b[0;34m,\u001b[0m\u001b[0;34m\u001b[0m\u001b[0;34m\u001b[0m\u001b[0m\n\u001b[1;32m    727\u001b[0m         \u001b[0mworkers\u001b[0m\u001b[0;34m=\u001b[0m\u001b[0mworkers\u001b[0m\u001b[0;34m,\u001b[0m\u001b[0;34m\u001b[0m\u001b[0;34m\u001b[0m\u001b[0m\n\u001b[0;32m--> 728\u001b[0;31m         use_multiprocessing=use_multiprocessing)\n\u001b[0m\u001b[1;32m    729\u001b[0m \u001b[0;34m\u001b[0m\u001b[0m\n\u001b[1;32m    730\u001b[0m   def evaluate(self,\n",
      "\u001b[0;32m~/PythonData/lib/python3.7/site-packages/tensorflow_core/python/keras/engine/training_v2.py\u001b[0m in \u001b[0;36mfit\u001b[0;34m(self, model, x, y, batch_size, epochs, verbose, callbacks, validation_split, validation_data, shuffle, class_weight, sample_weight, initial_epoch, steps_per_epoch, validation_steps, validation_freq, **kwargs)\u001b[0m\n\u001b[1;32m    222\u001b[0m           \u001b[0mvalidation_data\u001b[0m\u001b[0;34m=\u001b[0m\u001b[0mvalidation_data\u001b[0m\u001b[0;34m,\u001b[0m\u001b[0;34m\u001b[0m\u001b[0;34m\u001b[0m\u001b[0m\n\u001b[1;32m    223\u001b[0m           \u001b[0mvalidation_steps\u001b[0m\u001b[0;34m=\u001b[0m\u001b[0mvalidation_steps\u001b[0m\u001b[0;34m,\u001b[0m\u001b[0;34m\u001b[0m\u001b[0;34m\u001b[0m\u001b[0m\n\u001b[0;32m--> 224\u001b[0;31m           distribution_strategy=strategy)\n\u001b[0m\u001b[1;32m    225\u001b[0m \u001b[0;34m\u001b[0m\u001b[0m\n\u001b[1;32m    226\u001b[0m       \u001b[0mtotal_samples\u001b[0m \u001b[0;34m=\u001b[0m \u001b[0m_get_total_number_of_samples\u001b[0m\u001b[0;34m(\u001b[0m\u001b[0mtraining_data_adapter\u001b[0m\u001b[0;34m)\u001b[0m\u001b[0;34m\u001b[0m\u001b[0;34m\u001b[0m\u001b[0m\n",
      "\u001b[0;32m~/PythonData/lib/python3.7/site-packages/tensorflow_core/python/keras/engine/training_v2.py\u001b[0m in \u001b[0;36m_process_training_inputs\u001b[0;34m(model, x, y, batch_size, epochs, sample_weights, class_weights, steps_per_epoch, validation_split, validation_data, validation_steps, shuffle, distribution_strategy, max_queue_size, workers, use_multiprocessing)\u001b[0m\n\u001b[1;32m    545\u001b[0m         \u001b[0mmax_queue_size\u001b[0m\u001b[0;34m=\u001b[0m\u001b[0mmax_queue_size\u001b[0m\u001b[0;34m,\u001b[0m\u001b[0;34m\u001b[0m\u001b[0;34m\u001b[0m\u001b[0m\n\u001b[1;32m    546\u001b[0m         \u001b[0mworkers\u001b[0m\u001b[0;34m=\u001b[0m\u001b[0mworkers\u001b[0m\u001b[0;34m,\u001b[0m\u001b[0;34m\u001b[0m\u001b[0;34m\u001b[0m\u001b[0m\n\u001b[0;32m--> 547\u001b[0;31m         use_multiprocessing=use_multiprocessing)\n\u001b[0m\u001b[1;32m    548\u001b[0m     \u001b[0mval_adapter\u001b[0m \u001b[0;34m=\u001b[0m \u001b[0;32mNone\u001b[0m\u001b[0;34m\u001b[0m\u001b[0;34m\u001b[0m\u001b[0m\n\u001b[1;32m    549\u001b[0m     \u001b[0;32mif\u001b[0m \u001b[0mvalidation_data\u001b[0m\u001b[0;34m:\u001b[0m\u001b[0;34m\u001b[0m\u001b[0;34m\u001b[0m\u001b[0m\n",
      "\u001b[0;32m~/PythonData/lib/python3.7/site-packages/tensorflow_core/python/keras/engine/training_v2.py\u001b[0m in \u001b[0;36m_process_inputs\u001b[0;34m(model, x, y, batch_size, epochs, sample_weights, class_weights, shuffle, steps, distribution_strategy, max_queue_size, workers, use_multiprocessing)\u001b[0m\n\u001b[1;32m    604\u001b[0m       \u001b[0mmax_queue_size\u001b[0m\u001b[0;34m=\u001b[0m\u001b[0mmax_queue_size\u001b[0m\u001b[0;34m,\u001b[0m\u001b[0;34m\u001b[0m\u001b[0;34m\u001b[0m\u001b[0m\n\u001b[1;32m    605\u001b[0m       \u001b[0mworkers\u001b[0m\u001b[0;34m=\u001b[0m\u001b[0mworkers\u001b[0m\u001b[0;34m,\u001b[0m\u001b[0;34m\u001b[0m\u001b[0;34m\u001b[0m\u001b[0m\n\u001b[0;32m--> 606\u001b[0;31m       use_multiprocessing=use_multiprocessing)\n\u001b[0m\u001b[1;32m    607\u001b[0m   \u001b[0;31m# As a fallback for the data type that does not work with\u001b[0m\u001b[0;34m\u001b[0m\u001b[0;34m\u001b[0m\u001b[0;34m\u001b[0m\u001b[0m\n\u001b[1;32m    608\u001b[0m   \u001b[0;31m# _standardize_user_data, use the _prepare_model_with_inputs.\u001b[0m\u001b[0;34m\u001b[0m\u001b[0;34m\u001b[0m\u001b[0;34m\u001b[0m\u001b[0m\n",
      "\u001b[0;32m~/PythonData/lib/python3.7/site-packages/tensorflow_core/python/keras/engine/data_adapter.py\u001b[0m in \u001b[0;36m__init__\u001b[0;34m(self, x, y, sample_weights, batch_size, epochs, steps, shuffle, **kwargs)\u001b[0m\n\u001b[1;32m    319\u001b[0m     dataset = dataset_ops.DatasetV2.zip((\n\u001b[1;32m    320\u001b[0m         \u001b[0mindices_dataset\u001b[0m\u001b[0;34m,\u001b[0m\u001b[0;34m\u001b[0m\u001b[0;34m\u001b[0m\u001b[0m\n\u001b[0;32m--> 321\u001b[0;31m         \u001b[0mdataset_ops\u001b[0m\u001b[0;34m.\u001b[0m\u001b[0mDatasetV2\u001b[0m\u001b[0;34m.\u001b[0m\u001b[0mfrom_tensors\u001b[0m\u001b[0;34m(\u001b[0m\u001b[0minputs\u001b[0m\u001b[0;34m)\u001b[0m\u001b[0;34m.\u001b[0m\u001b[0mrepeat\u001b[0m\u001b[0;34m(\u001b[0m\u001b[0;34m)\u001b[0m\u001b[0;34m\u001b[0m\u001b[0;34m\u001b[0m\u001b[0m\n\u001b[0m\u001b[1;32m    322\u001b[0m     ))\n\u001b[1;32m    323\u001b[0m \u001b[0;34m\u001b[0m\u001b[0m\n",
      "\u001b[0;32m~/PythonData/lib/python3.7/site-packages/tensorflow_core/python/data/ops/dataset_ops.py\u001b[0m in \u001b[0;36mfrom_tensors\u001b[0;34m(tensors)\u001b[0m\n\u001b[1;32m    412\u001b[0m       \u001b[0mDataset\u001b[0m\u001b[0;34m:\u001b[0m \u001b[0mA\u001b[0m\u001b[0;31m \u001b[0m\u001b[0;31m`\u001b[0m\u001b[0mDataset\u001b[0m\u001b[0;31m`\u001b[0m\u001b[0;34m.\u001b[0m\u001b[0;34m\u001b[0m\u001b[0;34m\u001b[0m\u001b[0m\n\u001b[1;32m    413\u001b[0m     \"\"\"\n\u001b[0;32m--> 414\u001b[0;31m     \u001b[0;32mreturn\u001b[0m \u001b[0mTensorDataset\u001b[0m\u001b[0;34m(\u001b[0m\u001b[0mtensors\u001b[0m\u001b[0;34m)\u001b[0m\u001b[0;34m\u001b[0m\u001b[0;34m\u001b[0m\u001b[0m\n\u001b[0m\u001b[1;32m    415\u001b[0m \u001b[0;34m\u001b[0m\u001b[0m\n\u001b[1;32m    416\u001b[0m   \u001b[0;34m@\u001b[0m\u001b[0mstaticmethod\u001b[0m\u001b[0;34m\u001b[0m\u001b[0;34m\u001b[0m\u001b[0m\n",
      "\u001b[0;32m~/PythonData/lib/python3.7/site-packages/tensorflow_core/python/data/ops/dataset_ops.py\u001b[0m in \u001b[0;36m__init__\u001b[0;34m(self, element)\u001b[0m\n\u001b[1;32m   2333\u001b[0m   \u001b[0;32mdef\u001b[0m \u001b[0m__init__\u001b[0m\u001b[0;34m(\u001b[0m\u001b[0mself\u001b[0m\u001b[0;34m,\u001b[0m \u001b[0melement\u001b[0m\u001b[0;34m)\u001b[0m\u001b[0;34m:\u001b[0m\u001b[0;34m\u001b[0m\u001b[0;34m\u001b[0m\u001b[0m\n\u001b[1;32m   2334\u001b[0m     \u001b[0;34m\"\"\"See `Dataset.from_tensors()` for details.\"\"\"\u001b[0m\u001b[0;34m\u001b[0m\u001b[0;34m\u001b[0m\u001b[0m\n\u001b[0;32m-> 2335\u001b[0;31m     \u001b[0melement\u001b[0m \u001b[0;34m=\u001b[0m \u001b[0mstructure\u001b[0m\u001b[0;34m.\u001b[0m\u001b[0mnormalize_element\u001b[0m\u001b[0;34m(\u001b[0m\u001b[0melement\u001b[0m\u001b[0;34m)\u001b[0m\u001b[0;34m\u001b[0m\u001b[0;34m\u001b[0m\u001b[0m\n\u001b[0m\u001b[1;32m   2336\u001b[0m     \u001b[0mself\u001b[0m\u001b[0;34m.\u001b[0m\u001b[0m_structure\u001b[0m \u001b[0;34m=\u001b[0m \u001b[0mstructure\u001b[0m\u001b[0;34m.\u001b[0m\u001b[0mtype_spec_from_value\u001b[0m\u001b[0;34m(\u001b[0m\u001b[0melement\u001b[0m\u001b[0;34m)\u001b[0m\u001b[0;34m\u001b[0m\u001b[0;34m\u001b[0m\u001b[0m\n\u001b[1;32m   2337\u001b[0m     \u001b[0mself\u001b[0m\u001b[0;34m.\u001b[0m\u001b[0m_tensors\u001b[0m \u001b[0;34m=\u001b[0m \u001b[0mstructure\u001b[0m\u001b[0;34m.\u001b[0m\u001b[0mto_tensor_list\u001b[0m\u001b[0;34m(\u001b[0m\u001b[0mself\u001b[0m\u001b[0;34m.\u001b[0m\u001b[0m_structure\u001b[0m\u001b[0;34m,\u001b[0m \u001b[0melement\u001b[0m\u001b[0;34m)\u001b[0m\u001b[0;34m\u001b[0m\u001b[0;34m\u001b[0m\u001b[0m\n",
      "\u001b[0;32m~/PythonData/lib/python3.7/site-packages/tensorflow_core/python/data/util/structure.py\u001b[0m in \u001b[0;36mnormalize_element\u001b[0;34m(element)\u001b[0m\n\u001b[1;32m    109\u001b[0m         \u001b[0;32melse\u001b[0m\u001b[0;34m:\u001b[0m\u001b[0;34m\u001b[0m\u001b[0;34m\u001b[0m\u001b[0m\n\u001b[1;32m    110\u001b[0m           normalized_components.append(\n\u001b[0;32m--> 111\u001b[0;31m               ops.convert_to_tensor(t, name=\"component_%d\" % i))\n\u001b[0m\u001b[1;32m    112\u001b[0m   \u001b[0;32mreturn\u001b[0m \u001b[0mnest\u001b[0m\u001b[0;34m.\u001b[0m\u001b[0mpack_sequence_as\u001b[0m\u001b[0;34m(\u001b[0m\u001b[0melement\u001b[0m\u001b[0;34m,\u001b[0m \u001b[0mnormalized_components\u001b[0m\u001b[0;34m)\u001b[0m\u001b[0;34m\u001b[0m\u001b[0;34m\u001b[0m\u001b[0m\n\u001b[1;32m    113\u001b[0m \u001b[0;34m\u001b[0m\u001b[0m\n",
      "\u001b[0;32m~/PythonData/lib/python3.7/site-packages/tensorflow_core/python/framework/ops.py\u001b[0m in \u001b[0;36mconvert_to_tensor\u001b[0;34m(value, dtype, name, preferred_dtype, dtype_hint)\u001b[0m\n\u001b[1;32m   1182\u001b[0m   preferred_dtype = deprecation.deprecated_argument_lookup(\n\u001b[1;32m   1183\u001b[0m       \"dtype_hint\", dtype_hint, \"preferred_dtype\", preferred_dtype)\n\u001b[0;32m-> 1184\u001b[0;31m   \u001b[0;32mreturn\u001b[0m \u001b[0mconvert_to_tensor_v2\u001b[0m\u001b[0;34m(\u001b[0m\u001b[0mvalue\u001b[0m\u001b[0;34m,\u001b[0m \u001b[0mdtype\u001b[0m\u001b[0;34m,\u001b[0m \u001b[0mpreferred_dtype\u001b[0m\u001b[0;34m,\u001b[0m \u001b[0mname\u001b[0m\u001b[0;34m)\u001b[0m\u001b[0;34m\u001b[0m\u001b[0;34m\u001b[0m\u001b[0m\n\u001b[0m\u001b[1;32m   1185\u001b[0m \u001b[0;34m\u001b[0m\u001b[0m\n\u001b[1;32m   1186\u001b[0m \u001b[0;34m\u001b[0m\u001b[0m\n",
      "\u001b[0;32m~/PythonData/lib/python3.7/site-packages/tensorflow_core/python/framework/ops.py\u001b[0m in \u001b[0;36mconvert_to_tensor_v2\u001b[0;34m(value, dtype, dtype_hint, name)\u001b[0m\n\u001b[1;32m   1240\u001b[0m       \u001b[0mname\u001b[0m\u001b[0;34m=\u001b[0m\u001b[0mname\u001b[0m\u001b[0;34m,\u001b[0m\u001b[0;34m\u001b[0m\u001b[0;34m\u001b[0m\u001b[0m\n\u001b[1;32m   1241\u001b[0m       \u001b[0mpreferred_dtype\u001b[0m\u001b[0;34m=\u001b[0m\u001b[0mdtype_hint\u001b[0m\u001b[0;34m,\u001b[0m\u001b[0;34m\u001b[0m\u001b[0;34m\u001b[0m\u001b[0m\n\u001b[0;32m-> 1242\u001b[0;31m       as_ref=False)\n\u001b[0m\u001b[1;32m   1243\u001b[0m \u001b[0;34m\u001b[0m\u001b[0m\n\u001b[1;32m   1244\u001b[0m \u001b[0;34m\u001b[0m\u001b[0m\n",
      "\u001b[0;32m~/PythonData/lib/python3.7/site-packages/tensorflow_core/python/framework/ops.py\u001b[0m in \u001b[0;36minternal_convert_to_tensor\u001b[0;34m(value, dtype, name, as_ref, preferred_dtype, ctx, accept_composite_tensors)\u001b[0m\n\u001b[1;32m   1294\u001b[0m \u001b[0;34m\u001b[0m\u001b[0m\n\u001b[1;32m   1295\u001b[0m     \u001b[0;32mif\u001b[0m \u001b[0mret\u001b[0m \u001b[0;32mis\u001b[0m \u001b[0;32mNone\u001b[0m\u001b[0;34m:\u001b[0m\u001b[0;34m\u001b[0m\u001b[0;34m\u001b[0m\u001b[0m\n\u001b[0;32m-> 1296\u001b[0;31m       \u001b[0mret\u001b[0m \u001b[0;34m=\u001b[0m \u001b[0mconversion_func\u001b[0m\u001b[0;34m(\u001b[0m\u001b[0mvalue\u001b[0m\u001b[0;34m,\u001b[0m \u001b[0mdtype\u001b[0m\u001b[0;34m=\u001b[0m\u001b[0mdtype\u001b[0m\u001b[0;34m,\u001b[0m \u001b[0mname\u001b[0m\u001b[0;34m=\u001b[0m\u001b[0mname\u001b[0m\u001b[0;34m,\u001b[0m \u001b[0mas_ref\u001b[0m\u001b[0;34m=\u001b[0m\u001b[0mas_ref\u001b[0m\u001b[0;34m)\u001b[0m\u001b[0;34m\u001b[0m\u001b[0;34m\u001b[0m\u001b[0m\n\u001b[0m\u001b[1;32m   1297\u001b[0m \u001b[0;34m\u001b[0m\u001b[0m\n\u001b[1;32m   1298\u001b[0m     \u001b[0;32mif\u001b[0m \u001b[0mret\u001b[0m \u001b[0;32mis\u001b[0m \u001b[0mNotImplemented\u001b[0m\u001b[0;34m:\u001b[0m\u001b[0;34m\u001b[0m\u001b[0;34m\u001b[0m\u001b[0m\n",
      "\u001b[0;32m~/PythonData/lib/python3.7/site-packages/tensorflow_core/python/framework/tensor_conversion_registry.py\u001b[0m in \u001b[0;36m_default_conversion_function\u001b[0;34m(***failed resolving arguments***)\u001b[0m\n\u001b[1;32m     50\u001b[0m \u001b[0;32mdef\u001b[0m \u001b[0m_default_conversion_function\u001b[0m\u001b[0;34m(\u001b[0m\u001b[0mvalue\u001b[0m\u001b[0;34m,\u001b[0m \u001b[0mdtype\u001b[0m\u001b[0;34m,\u001b[0m \u001b[0mname\u001b[0m\u001b[0;34m,\u001b[0m \u001b[0mas_ref\u001b[0m\u001b[0;34m)\u001b[0m\u001b[0;34m:\u001b[0m\u001b[0;34m\u001b[0m\u001b[0;34m\u001b[0m\u001b[0m\n\u001b[1;32m     51\u001b[0m   \u001b[0;32mdel\u001b[0m \u001b[0mas_ref\u001b[0m  \u001b[0;31m# Unused.\u001b[0m\u001b[0;34m\u001b[0m\u001b[0;34m\u001b[0m\u001b[0m\n\u001b[0;32m---> 52\u001b[0;31m   \u001b[0;32mreturn\u001b[0m \u001b[0mconstant_op\u001b[0m\u001b[0;34m.\u001b[0m\u001b[0mconstant\u001b[0m\u001b[0;34m(\u001b[0m\u001b[0mvalue\u001b[0m\u001b[0;34m,\u001b[0m \u001b[0mdtype\u001b[0m\u001b[0;34m,\u001b[0m \u001b[0mname\u001b[0m\u001b[0;34m=\u001b[0m\u001b[0mname\u001b[0m\u001b[0;34m)\u001b[0m\u001b[0;34m\u001b[0m\u001b[0;34m\u001b[0m\u001b[0m\n\u001b[0m\u001b[1;32m     53\u001b[0m \u001b[0;34m\u001b[0m\u001b[0m\n\u001b[1;32m     54\u001b[0m \u001b[0;34m\u001b[0m\u001b[0m\n",
      "\u001b[0;32m~/PythonData/lib/python3.7/site-packages/tensorflow_core/python/framework/constant_op.py\u001b[0m in \u001b[0;36mconstant\u001b[0;34m(value, dtype, shape, name)\u001b[0m\n\u001b[1;32m    225\u001b[0m   \"\"\"\n\u001b[1;32m    226\u001b[0m   return _constant_impl(value, dtype, shape, name, verify_shape=False,\n\u001b[0;32m--> 227\u001b[0;31m                         allow_broadcast=True)\n\u001b[0m\u001b[1;32m    228\u001b[0m \u001b[0;34m\u001b[0m\u001b[0m\n\u001b[1;32m    229\u001b[0m \u001b[0;34m\u001b[0m\u001b[0m\n",
      "\u001b[0;32m~/PythonData/lib/python3.7/site-packages/tensorflow_core/python/framework/constant_op.py\u001b[0m in \u001b[0;36m_constant_impl\u001b[0;34m(value, dtype, shape, name, verify_shape, allow_broadcast)\u001b[0m\n\u001b[1;32m    233\u001b[0m   \u001b[0mctx\u001b[0m \u001b[0;34m=\u001b[0m \u001b[0mcontext\u001b[0m\u001b[0;34m.\u001b[0m\u001b[0mcontext\u001b[0m\u001b[0;34m(\u001b[0m\u001b[0;34m)\u001b[0m\u001b[0;34m\u001b[0m\u001b[0;34m\u001b[0m\u001b[0m\n\u001b[1;32m    234\u001b[0m   \u001b[0;32mif\u001b[0m \u001b[0mctx\u001b[0m\u001b[0;34m.\u001b[0m\u001b[0mexecuting_eagerly\u001b[0m\u001b[0;34m(\u001b[0m\u001b[0;34m)\u001b[0m\u001b[0;34m:\u001b[0m\u001b[0;34m\u001b[0m\u001b[0;34m\u001b[0m\u001b[0m\n\u001b[0;32m--> 235\u001b[0;31m     \u001b[0mt\u001b[0m \u001b[0;34m=\u001b[0m \u001b[0mconvert_to_eager_tensor\u001b[0m\u001b[0;34m(\u001b[0m\u001b[0mvalue\u001b[0m\u001b[0;34m,\u001b[0m \u001b[0mctx\u001b[0m\u001b[0;34m,\u001b[0m \u001b[0mdtype\u001b[0m\u001b[0;34m)\u001b[0m\u001b[0;34m\u001b[0m\u001b[0;34m\u001b[0m\u001b[0m\n\u001b[0m\u001b[1;32m    236\u001b[0m     \u001b[0;32mif\u001b[0m \u001b[0mshape\u001b[0m \u001b[0;32mis\u001b[0m \u001b[0;32mNone\u001b[0m\u001b[0;34m:\u001b[0m\u001b[0;34m\u001b[0m\u001b[0;34m\u001b[0m\u001b[0m\n\u001b[1;32m    237\u001b[0m       \u001b[0;32mreturn\u001b[0m \u001b[0mt\u001b[0m\u001b[0;34m\u001b[0m\u001b[0;34m\u001b[0m\u001b[0m\n",
      "\u001b[0;32m~/PythonData/lib/python3.7/site-packages/tensorflow_core/python/framework/constant_op.py\u001b[0m in \u001b[0;36mconvert_to_eager_tensor\u001b[0;34m(value, ctx, dtype)\u001b[0m\n\u001b[1;32m     94\u001b[0m       \u001b[0mdtype\u001b[0m \u001b[0;34m=\u001b[0m \u001b[0mdtypes\u001b[0m\u001b[0;34m.\u001b[0m\u001b[0mas_dtype\u001b[0m\u001b[0;34m(\u001b[0m\u001b[0mdtype\u001b[0m\u001b[0;34m)\u001b[0m\u001b[0;34m.\u001b[0m\u001b[0mas_datatype_enum\u001b[0m\u001b[0;34m\u001b[0m\u001b[0;34m\u001b[0m\u001b[0m\n\u001b[1;32m     95\u001b[0m   \u001b[0mctx\u001b[0m\u001b[0;34m.\u001b[0m\u001b[0mensure_initialized\u001b[0m\u001b[0;34m(\u001b[0m\u001b[0;34m)\u001b[0m\u001b[0;34m\u001b[0m\u001b[0;34m\u001b[0m\u001b[0m\n\u001b[0;32m---> 96\u001b[0;31m   \u001b[0;32mreturn\u001b[0m \u001b[0mops\u001b[0m\u001b[0;34m.\u001b[0m\u001b[0mEagerTensor\u001b[0m\u001b[0;34m(\u001b[0m\u001b[0mvalue\u001b[0m\u001b[0;34m,\u001b[0m \u001b[0mctx\u001b[0m\u001b[0;34m.\u001b[0m\u001b[0mdevice_name\u001b[0m\u001b[0;34m,\u001b[0m \u001b[0mdtype\u001b[0m\u001b[0;34m)\u001b[0m\u001b[0;34m\u001b[0m\u001b[0;34m\u001b[0m\u001b[0m\n\u001b[0m\u001b[1;32m     97\u001b[0m \u001b[0;34m\u001b[0m\u001b[0m\n\u001b[1;32m     98\u001b[0m \u001b[0;34m\u001b[0m\u001b[0m\n",
      "\u001b[0;31mValueError\u001b[0m: Failed to convert a NumPy array to a Tensor (Unsupported object type Timestamp)."
     ]
    }
   ],
   "source": [
    "model.fit(\n",
    "    X_train,\n",
    "    y_train,\n",
    "    epochs=60,\n",
    "    shuffle=True,\n",
    "    verbose=2\n",
    ")"
   ]
  },
  {
   "cell_type": "code",
   "execution_count": null,
   "metadata": {},
   "outputs": [],
   "source": [
    "def univariate_data(dataset, start_index, end_index, history_size, target_size):\n",
    "  data = []\n",
    "  labels = []\n",
    "\n",
    "  start_index = start_index + history_size\n",
    "  if end_index is None:\n",
    "    end_index = len(dataset) - target_size\n",
    "\n",
    "  for i in range(start_index, end_index):\n",
    "    indices = range(i-history_size, i)\n",
    "    # Reshape data from (history_size,) to (history_size, 1)\n",
    "    data.append(np.reshape(dataset[indices], (history_size, 1)))\n",
    "    labels.append(dataset[i+target_size])\n",
    "  return np.array(data), np.array(labels)"
   ]
  },
  {
   "cell_type": "code",
   "execution_count": null,
   "metadata": {},
   "outputs": [],
   "source": [
    "TRAIN_SPLIT = 3500"
   ]
  },
  {
   "cell_type": "code",
   "execution_count": null,
   "metadata": {},
   "outputs": [],
   "source": [
    "tf.random.set_seed(13)"
   ]
  },
  {
   "cell_type": "code",
   "execution_count": null,
   "metadata": {},
   "outputs": [],
   "source": [
    "uni_data = taxi_reduced['pickup_longitude', 'pickup_latitude']\n",
    "uni_data.index = taxi_reduced['tpep_pickup_datetime']\n",
    "uni_data.head()"
   ]
  },
  {
   "cell_type": "code",
   "execution_count": null,
   "metadata": {},
   "outputs": [],
   "source": [
    "uni_data.plot(subplots=True)"
   ]
  },
  {
   "cell_type": "code",
   "execution_count": null,
   "metadata": {},
   "outputs": [],
   "source": [
    "uni_data = uni_data.values"
   ]
  },
  {
   "cell_type": "code",
   "execution_count": null,
   "metadata": {},
   "outputs": [],
   "source": [
    "uni_train_mean = uni_data[:TRAIN_SPLIT].mean()\n",
    "uni_train_std = uni_data[:TRAIN_SPLIT].std()"
   ]
  },
  {
   "cell_type": "code",
   "execution_count": null,
   "metadata": {},
   "outputs": [],
   "source": [
    "uni_data = (uni_data-uni_train_mean)/uni_train_std"
   ]
  },
  {
   "cell_type": "code",
   "execution_count": null,
   "metadata": {},
   "outputs": [],
   "source": [
    "univariate_past_history = 2000\n",
    "univariate_future_target = 0\n",
    "\n",
    "x_train_uni, y_train_uni = univariate_data(uni_data, 0, TRAIN_SPLIT,\n",
    "                                           univariate_past_history,\n",
    "                                           univariate_future_target)\n",
    "x_val_uni, y_val_uni = univariate_data(uni_data, TRAIN_SPLIT, None,\n",
    "                                       univariate_past_history,\n",
    "                                       univariate_future_target)"
   ]
  },
  {
   "cell_type": "code",
   "execution_count": null,
   "metadata": {},
   "outputs": [],
   "source": [
    "print ('Single window of past history')\n",
    "print (x_train_uni[0])\n",
    "print ('\\n Target temperature to predict')\n",
    "print (y_train_uni[0])"
   ]
  },
  {
   "cell_type": "code",
   "execution_count": null,
   "metadata": {},
   "outputs": [],
   "source": [
    "def create_time_steps(length):\n",
    "  time_steps = []\n",
    "  for i in range(-length, 0, 1):\n",
    "    time_steps.append(i)\n",
    "  return time_steps"
   ]
  },
  {
   "cell_type": "code",
   "execution_count": null,
   "metadata": {},
   "outputs": [],
   "source": [
    "def show_plot(plot_data, delta, title):\n",
    "  labels = ['History', 'True Future', 'Model Prediction']\n",
    "  marker = ['.-', 'rx', 'go']\n",
    "  time_steps = create_time_steps(plot_data[0].shape[0])\n",
    "  if delta:\n",
    "    future = delta\n",
    "  else:\n",
    "    future = 0\n",
    "\n",
    "  plt.title(title)\n",
    "  for i, x in enumerate(plot_data):\n",
    "    if i:\n",
    "      plt.plot(future, plot_data[i], marker[i], markersize=10,\n",
    "               label=labels[i])\n",
    "    else:\n",
    "      plt.plot(time_steps, plot_data[i].flatten(), marker[i], label=labels[i])\n",
    "  plt.legend()\n",
    "  plt.xlim([time_steps[0], (future+5)*2])\n",
    "  plt.xlabel('Time-Step')\n",
    "  return plt"
   ]
  },
  {
   "cell_type": "code",
   "execution_count": null,
   "metadata": {},
   "outputs": [],
   "source": [
    "show_plot([x_train_uni[0], y_train_uni[0]], 0, 'Sample Example')"
   ]
  },
  {
   "cell_type": "code",
   "execution_count": null,
   "metadata": {},
   "outputs": [],
   "source": []
  }
 ],
 "metadata": {
  "kernelspec": {
   "display_name": "Python 3",
   "language": "python",
   "name": "python3"
  },
  "language_info": {
   "codemirror_mode": {
    "name": "ipython",
    "version": 3
   },
   "file_extension": ".py",
   "mimetype": "text/x-python",
   "name": "python",
   "nbconvert_exporter": "python",
   "pygments_lexer": "ipython3",
   "version": "3.7.5"
  }
 },
 "nbformat": 4,
 "nbformat_minor": 2
}
